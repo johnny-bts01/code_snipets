{
 "cells": [
  {
   "cell_type": "code",
   "execution_count": null,
   "metadata": {},
   "outputs": [],
   "source": [
    "import paramiko\n",
    "\n",
    "host = \"\"\n",
    "port = 22\n",
    "password = \"\"\n",
    "username = \"\"\n",
    "\n",
    "ssh = paramiko.SSHClient()\n",
    "ssh.set_missing_host_key_policy(paramiko.AutoAddPolicy())\n",
    "ssh.connect(host, port, username, password)\n",
    "\n",
    "sftp = ssh.open_sftp()\n",
    "\n",
    "path = \"\\\\dir_server\"\n",
    "localpath = \"teste_ssh.txt\"\n",
    "sftp.put(localpath, path)\n",
    "\n",
    "sftp.close()\n",
    "ssh.close()"
   ]
  }
 ],
 "metadata": {
  "language_info": {
   "name": "python"
  },
  "orig_nbformat": 4
 },
 "nbformat": 4,
 "nbformat_minor": 2
}
