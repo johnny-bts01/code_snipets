{
 "cells": [
  {
   "cell_type": "markdown",
   "metadata": {},
   "source": [
    "Codigo para realizar o Encrypt e Decrypt de informações de texto"
   ]
  },
  {
   "cell_type": "code",
   "execution_count": null,
   "metadata": {},
   "outputs": [],
   "source": [
    "import random as r\n",
    "\n",
    "def encryptSuperHard(message):\n",
    "    newS=''\n",
    "    l_trans=[]\n",
    "    for car in message:\n",
    "        code=ord(car)\n",
    "        add_subtract=r.choice([True,False])\n",
    "        if add_subtract:\n",
    "            transpose=r.randint(0,code-1)\n",
    "            newS=newS+chr(code-transpose)\n",
    "            l_trans=l_trans+[-transpose]\n",
    "        else:\n",
    "            transpose=r.randint(code+1,255)\n",
    "            newS=newS+chr(code+transpose)\n",
    "            l_trans=l_trans+[transpose]\n",
    "                      \n",
    "    return newS, l_trans"
   ]
  },
  {
   "cell_type": "code",
   "execution_count": null,
   "metadata": {},
   "outputs": [],
   "source": [
    "def decryptSuperHard(encriptedS,l):\n",
    "    newS=''\n",
    "    for i in range(len(l)):\n",
    "        newS=newS+chr(ord(encriptedS[i])-l[i])\n",
    "    return newS"
   ]
  },
  {
   "cell_type": "code",
   "execution_count": null,
   "metadata": {},
   "outputs": [],
   "source": [
    "text = \"TEXTOPARAENCRIPITAR\"\n",
    "\n",
    "#text_encrypt = encryptSuperHard(text)\n",
    "cod1,cod2 = encryptSuperHard(text)\n",
    "print(cod1)\n",
    "print(cod2)\n",
    "\n",
    "with open(r'\\\\saida', 'w',encoding='utf-8') as the_file:\n",
    "    the_file.write(str(cod1))\n",
    "    the_file.write('\\n')\n",
    "    the_file.write(str(cod2))\n",
    "\n",
    "#decript\n",
    "\n",
    "\n",
    "with open(r'\\\\saida',encoding='utf-8') as file:\n",
    "    lines = file.readlines()\n",
    "    lines = [line.rstrip() for line in lines]\n",
    "    \n",
    "\n",
    "cod = []\n",
    "a =list((lines[1].replace(\"[\",\"\").replace(\"]\",\"\")).split(\",\"))\n",
    "for nrs in a:\n",
    "    cod.append(int(nrs))\n",
    "    \n",
    "print(cod)\n",
    "print(lines[0])\n",
    "\n",
    "text_decrypt = decryptSuperHard(lines[0],cod)\n",
    "print(text_decrypt)"
   ]
  }
 ],
 "metadata": {
  "language_info": {
   "name": "python"
  },
  "orig_nbformat": 4
 },
 "nbformat": 4,
 "nbformat_minor": 2
}
